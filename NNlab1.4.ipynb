{
 "cells": [
  {
   "cell_type": "code",
   "execution_count": 1,
   "id": "serious-melbourne",
   "metadata": {},
   "outputs": [],
   "source": [
    "from IPython.core.interactiveshell import InteractiveShell\n",
    "InteractiveShell.ast_node_interactivity = \"all\""
   ]
  },
  {
   "cell_type": "code",
   "execution_count": 2,
   "id": "chicken-polymer",
   "metadata": {},
   "outputs": [],
   "source": [
    "import numpy as np\n",
    "\n",
    "target = np.array([[0.01],[0.01],[0.99]])\n",
    "\n",
    "activation_function = lambda x: 1/ (1 + np.exp(-x))\n",
    "\n",
    "Winput_hidden = np.array([[0.9,0.3,0.4],[0.2,0.8,0.2],[0.1,0.5,0.6]])\n",
    "Woutput_hidden = np.array([[0.3,0.7,0.5],[0.6,0.5,0.2],[0.8,0.1,0.9]])\n",
    "\n",
    "input = np.array([0.9,0.1,0.8], ndmin=2).T\n",
    "Xhidden = np.dot(Winput_hidden, input)\n",
    "Ohidden = activation_function(Xhidden)\n",
    "Xoutput = np.dot(Woutput_hidden,Ohidden)\n",
    "output = activation_function(Xoutput)"
   ]
  },
  {
   "cell_type": "code",
   "execution_count": 3,
   "id": "appreciated-contemporary",
   "metadata": {},
   "outputs": [
    {
     "data": {
      "text/plain": [
       "array([[0.72630335],\n",
       "       [0.70859807],\n",
       "       [0.77809706]])"
      ]
     },
     "execution_count": 3,
     "metadata": {},
     "output_type": "execute_result"
    }
   ],
   "source": [
    "output"
   ]
  },
  {
   "cell_type": "code",
   "execution_count": 11,
   "id": "noble-depth",
   "metadata": {},
   "outputs": [
    {
     "name": "stdout",
     "output_type": "stream",
     "text": [
      "Eoutput\n",
      " [[-0.71630335]\n",
      " [-0.69859807]\n",
      " [ 0.21190294]]\n",
      "Whidden_output_sum1\n",
      " [1.5 1.3 1.8]\n",
      "Whidden_output_norm\n",
      " [[0.2        0.46153846 0.44444444]\n",
      " [0.46666667 0.38461538 0.05555556]\n",
      " [0.33333333 0.15384615 0.5       ]]\n"
     ]
    }
   ],
   "source": [
    "e = target-output\n",
    "print(\"Eoutput\\n\",e)\n",
    "\n",
    "Whidden_output_sum1 = Woutput_hidden.sum(axis=1, dtype='float')\n",
    "Whidden_output_norm = Woutput_hidden.T/Whidden_output_sum1\n",
    "print(\"Whidden_output_sum1\\n\", Whidden_output_sum1)\n",
    "print(\"Whidden_output_norm\\n\", Whidden_output_norm)"
   ]
  },
  {
   "cell_type": "code",
   "execution_count": 12,
   "id": "outstanding-coast",
   "metadata": {},
   "outputs": [
    {
     "name": "stdout",
     "output_type": "stream",
     "text": [
      "Ehidden\n",
      " [[-0.37151146]\n",
      " [-0.59119408]\n",
      " [-0.24029294]]\n",
      "Ehidden.sum\n",
      " -1.2029984769999442\n"
     ]
    }
   ],
   "source": [
    "Ehidden = np.dot(Whidden_output_norm, e)\n",
    "print(\"Ehidden\\n\", Ehidden)\n",
    "print(\"Ehidden.sum\\n\", Ehidden.sum())"
   ]
  },
  {
   "cell_type": "markdown",
   "id": "continent-friday",
   "metadata": {},
   "source": [
    "# ↑은닉계층의 역전파 오차 값"
   ]
  },
  {
   "cell_type": "markdown",
   "id": "recent-cause",
   "metadata": {},
   "source": [
    "# ↓은닉계층의 가중치들의 업데이트"
   ]
  },
  {
   "cell_type": "code",
   "execution_count": 13,
   "id": "logical-fever",
   "metadata": {},
   "outputs": [
    {
     "name": "stdout",
     "output_type": "stream",
     "text": [
      "시그모이드 함수 내의 합\n",
      " [[1.10295818]\n",
      " [0.94570046]\n",
      " [1.35218984]]\n",
      "시그모이드 함수의 값\n",
      " [[0.75081397]\n",
      " [0.72024968]\n",
      " [0.79448741]]\n"
     ]
    }
   ],
   "source": [
    "sigma = np.dot(Woutput_hidden, output)\n",
    "print(\"시그모이드 함수 내의 합\\n\", sigma)\n",
    "\n",
    "sigmoid = activation_function(sigma)\n",
    "print(\"시그모이드 함수의 값\\n\", sigmoid)"
   ]
  },
  {
   "cell_type": "code",
   "execution_count": 14,
   "id": "distinct-spending",
   "metadata": {},
   "outputs": [],
   "source": [
    "one_sig = 1-sigmoid"
   ]
  },
  {
   "cell_type": "code",
   "execution_count": 15,
   "id": "mature-athens",
   "metadata": {},
   "outputs": [
    {
     "name": "stdout",
     "output_type": "stream",
     "text": [
      "두번째 항의 값\n",
      " [[0.18709235]\n",
      " [0.20149008]\n",
      " [0.16327717]]\n",
      "오차 * 두번째 항\n",
      " [[-0.13401488]\n",
      " [-0.14076058]\n",
      " [ 0.03459891]]\n",
      "오차 기울기\n",
      " [[ 0.09733545  0.09496268  0.10427658]\n",
      " [ 0.10223488  0.09974268  0.10952539]\n",
      " [-0.02512931 -0.02451672 -0.02692131]]\n",
      "변화량\n",
      " [[ 0.00973355  0.00949627  0.01042766]\n",
      " [ 0.01022349  0.00997427  0.01095254]\n",
      " [-0.00251293 -0.00245167 -0.00269213]]\n",
      "새로운 w\n",
      " [[0.29026645 0.69050373 0.48957234]\n",
      " [0.58977651 0.49002573 0.18904746]\n",
      " [0.80251293 0.10245167 0.90269213]]\n"
     ]
    }
   ],
   "source": [
    "mul_sig = sigmoid*one_sig\n",
    "print(\"두번째 항의 값\\n\",mul_sig)\n",
    "\n",
    "first = e*mul_sig\n",
    "print(\"오차 * 두번째 항\\n\", first)\n",
    "\n",
    "gradient = -np.dot(first,output.T)\n",
    "print(\"오차 기울기\\n\", gradient)\n",
    "\n",
    "change = 0.1 * gradient\n",
    "print(\"변화량\\n\", change)\n",
    "\n",
    "\n",
    "new_w = Woutput_hidden-change\n",
    "print(\"새로운 w\\n\", new_w)\n",
    "# w11, w21, w31\n",
    "# w12, w22, w23\n",
    "# w13, w23, w33"
   ]
  }
 ],
 "metadata": {
  "kernelspec": {
   "display_name": "[DS Python3]",
   "language": "python",
   "name": "ds_env"
  },
  "language_info": {
   "codemirror_mode": {
    "name": "ipython",
    "version": 3
   },
   "file_extension": ".py",
   "mimetype": "text/x-python",
   "name": "python",
   "nbconvert_exporter": "python",
   "pygments_lexer": "ipython3",
   "version": "3.9.2"
  }
 },
 "nbformat": 4,
 "nbformat_minor": 5
}
