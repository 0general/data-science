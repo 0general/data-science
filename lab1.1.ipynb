{
 "cells": [
  {
   "cell_type": "code",
   "execution_count": 1,
   "metadata": {},
   "outputs": [],
   "source": [
    "# 201501489 최영진"
   ]
  },
  {
   "cell_type": "code",
   "execution_count": 2,
   "metadata": {},
   "outputs": [],
   "source": [
    "a = [\"apple\", \"mange\", \"pear\"]\n",
    "b = [\"banana\", \"blueberry\", \"strawberry\"]\n",
    "c = [\"coconut\", \"cream\", \"lime\"]"
   ]
  },
  {
   "cell_type": "code",
   "execution_count": 3,
   "metadata": {},
   "outputs": [],
   "source": [
    "a = a+b+c"
   ]
  },
  {
   "cell_type": "code",
   "execution_count": 4,
   "metadata": {},
   "outputs": [
    {
     "name": "stdout",
     "output_type": "stream",
     "text": [
      "['apple', 'mange', 'pear', 'banana', 'blueberry', 'strawberry', 'coconut', 'cream', 'lime']\n"
     ]
    }
   ],
   "source": [
    "print(a)"
   ]
  },
  {
   "cell_type": "code",
   "execution_count": 5,
   "metadata": {},
   "outputs": [
    {
     "name": "stdout",
     "output_type": "stream",
     "text": [
      "0 : apple\n",
      "1 : mange\n",
      "2 : pear\n",
      "3 : banana\n",
      "4 : blueberry\n",
      "5 : strawberry\n",
      "6 : coconut\n",
      "7 : cream\n",
      "8 : lime\n"
     ]
    }
   ],
   "source": [
    "for i in range(len(a)):\n",
    "    print(i,\":\",a[i])"
   ]
  },
  {
   "cell_type": "code",
   "execution_count": 6,
   "metadata": {},
   "outputs": [],
   "source": [
    "data = \"\" + a[0]\n",
    "cmm = \",\""
   ]
  },
  {
   "cell_type": "code",
   "execution_count": 7,
   "metadata": {},
   "outputs": [],
   "source": [
    "for j in range(1,len(a)):\n",
    "    data = data +cmm+a[j]"
   ]
  },
  {
   "cell_type": "code",
   "execution_count": 8,
   "metadata": {},
   "outputs": [
    {
     "name": "stdout",
     "output_type": "stream",
     "text": [
      "apple,mange,pear,banana,blueberry,strawberry,coconut,cream,lime\n"
     ]
    }
   ],
   "source": [
    "print(data)"
   ]
  },
  {
   "cell_type": "code",
   "execution_count": 9,
   "metadata": {},
   "outputs": [],
   "source": [
    "file = open('lab1.1(201501489최영진).csv', 'w')"
   ]
  },
  {
   "cell_type": "code",
   "execution_count": 10,
   "metadata": {},
   "outputs": [],
   "source": [
    "file.write(data)\n",
    "file.close()"
   ]
  },
  {
   "cell_type": "code",
   "execution_count": 11,
   "metadata": {},
   "outputs": [
    {
     "name": "stdout",
     "output_type": "stream",
     "text": [
      "apple,mange,pear,banana,blueberry,strawberry,coconut,cream,lime\n"
     ]
    }
   ],
   "source": [
    "file = open('lab1.1(201501489최영진).csv', 'r')\n",
    "d = file.readlines()\n",
    "for line in d:\n",
    "    print(line)\n",
    "file.close()\n"
   ]
  }
 ],
 "metadata": {
  "kernelspec": {
   "display_name": "Python 3",
   "language": "python",
   "name": "python3"
  },
  "language_info": {
   "codemirror_mode": {
    "name": "ipython",
    "version": 3
   },
   "file_extension": ".py",
   "mimetype": "text/x-python",
   "name": "python",
   "nbconvert_exporter": "python",
   "pygments_lexer": "ipython3",
   "version": "3.7.7"
  }
 },
 "nbformat": 4,
 "nbformat_minor": 4
}
