{
 "cells": [
  {
   "cell_type": "code",
   "execution_count": 1,
   "id": "medical-protest",
   "metadata": {},
   "outputs": [],
   "source": [
    "from IPython.core.interactiveshell import InteractiveShell\n",
    "InteractiveShell.ast_node_interactivity = \"all\""
   ]
  },
  {
   "cell_type": "code",
   "execution_count": 4,
   "id": "willing-adolescent",
   "metadata": {},
   "outputs": [
    {
     "name": "stdout",
     "output_type": "stream",
     "text": [
      "[Winput_hidden]\n",
      " [[0.9 0.3 0.4]\n",
      " [0.2 0.8 0.2]\n",
      " [0.1 0.5 0.6]]\n",
      "[Woutput_hidden]\n",
      " [[0.3 0.7 0.5]\n",
      " [0.6 0.5 0.2]\n",
      " [0.8 0.1 0.9]]\n",
      "[input]\n",
      " [[0.9]\n",
      " [0.1]\n",
      " [0.8]]\n",
      "[Xhidden]\n",
      " [[1.16]\n",
      " [0.42]\n",
      " [0.62]]\n",
      "[Ohidden]\n",
      " [[0.76133271]\n",
      " [0.60348325]\n",
      " [0.65021855]]\n",
      "[Xoutput]\n",
      " [[0.97594736]\n",
      " [0.88858496]\n",
      " [1.25461119]]\n",
      "[output]\n",
      " [[0.72630335]\n",
      " [0.70859807]\n",
      " [0.77809706]]\n"
     ]
    }
   ],
   "source": [
    "import numpy as np\n",
    "\n",
    "activation_function = lambda x: 1/ (1 + np.exp(-x))\n",
    "\n",
    "Winput_hidden = np.array([[0.9,0.3,0.4],[0.2,0.8,0.2],[0.1,0.5,0.6]])\n",
    "print(\"[Winput_hidden]\\n\", Winput_hidden)\n",
    "\n",
    "Woutput_hidden = np.array([[0.3,0.7,0.5],[0.6,0.5,0.2],[0.8,0.1,0.9]])\n",
    "print(\"[Woutput_hidden]\\n\", Woutput_hidden)\n",
    "\n",
    "input = np.array([0.9,0.1,0.8], ndmin=2).T\n",
    "print(\"[input]\\n\", input)\n",
    "\n",
    "Xhidden = np.dot(Winput_hidden, input)\n",
    "print(\"[Xhidden]\\n\", Xhidden)\n",
    "\n",
    "Ohidden = activation_function(Xhidden)\n",
    "print(\"[Ohidden]\\n\", Ohidden)\n",
    "\n",
    "Xoutput = np.dot(Woutput_hidden,Ohidden)\n",
    "print(\"[Xoutput]\\n\", Xoutput)\n",
    "\n",
    "output = activation_function(Xoutput)\n",
    "print(\"[output]\\n\", output)"
   ]
  }
 ],
 "metadata": {
  "kernelspec": {
   "display_name": "[DS Python3]",
   "language": "python",
   "name": "ds_env"
  },
  "language_info": {
   "codemirror_mode": {
    "name": "ipython",
    "version": 3
   },
   "file_extension": ".py",
   "mimetype": "text/x-python",
   "name": "python",
   "nbconvert_exporter": "python",
   "pygments_lexer": "ipython3",
   "version": "3.9.2"
  }
 },
 "nbformat": 4,
 "nbformat_minor": 5
}
