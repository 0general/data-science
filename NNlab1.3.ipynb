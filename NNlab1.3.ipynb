{
 "cells": [
  {
   "cell_type": "code",
   "execution_count": 1,
   "id": "median-request",
   "metadata": {},
   "outputs": [],
   "source": [
    "from IPython.core.interactiveshell import InteractiveShell\n",
    "InteractiveShell.ast_node_interactivity = \"all\""
   ]
  },
  {
   "cell_type": "code",
   "execution_count": 4,
   "id": "separate-charity",
   "metadata": {},
   "outputs": [
    {
     "name": "stdout",
     "output_type": "stream",
     "text": [
      "시그모이드 함수 내의 합\n",
      " [[2.3]\n",
      " [2.4]]\n",
      "시그모이드 함수의 값\n",
      " [[0.90887704]\n",
      " [0.9168273 ]]\n"
     ]
    }
   ],
   "source": [
    "import numpy as np\n",
    "\n",
    "output = np.array([0.4,0.5], ndmin=2).T\n",
    "e = np.array([0.8,0.5], ndmin=2)\n",
    "W_hidden = np.array([[2.0,1.0],[3.0,4.0]]).T\n",
    "\n",
    "func = lambda x : 1/(1+np.exp(-x))\n",
    "\n",
    "Wout_sum = np.dot(W_hidden,output)\n",
    "print(\"시그모이드 함수 내의 합\\n\", Wout_sum)\n",
    "\n",
    "sig = func(Wout_sum)\n",
    "print(\"시그모이드 함수의 값\\n\", sig)"
   ]
  },
  {
   "cell_type": "code",
   "execution_count": 10,
   "id": "latter-accent",
   "metadata": {},
   "outputs": [
    {
     "name": "stdout",
     "output_type": "stream",
     "text": [
      "두번째 항의 값\n",
      " [[0.08281957]\n",
      " [0.076255  ]]\n"
     ]
    }
   ],
   "source": [
    "one_sig = 1-sig\n",
    "\n",
    "hidden_outpunt = np.array([0.4,0.5], ndmin=2)\n",
    "\n",
    "mul_sig = sig*one_sig\n",
    "print(\"두번째 항의 값\\n\",mul_sig)"
   ]
  },
  {
   "cell_type": "code",
   "execution_count": 15,
   "id": "experimental-explorer",
   "metadata": {},
   "outputs": [
    {
     "name": "stdout",
     "output_type": "stream",
     "text": [
      "오차 * 두번째 항\n",
      " [[0.06625565]\n",
      " [0.0381275 ]]\n"
     ]
    }
   ],
   "source": [
    "first = e.T* mul_sig\n",
    "print(\"오차 * 두번째 항\\n\", first)"
   ]
  },
  {
   "cell_type": "code",
   "execution_count": 17,
   "id": "marked-service",
   "metadata": {},
   "outputs": [
    {
     "name": "stdout",
     "output_type": "stream",
     "text": [
      "오차 기울기\n",
      " [[-0.02650226 -0.015251  ]\n",
      " [-0.03312783 -0.01906375]]\n",
      "변화량\n",
      " [[-0.00265023 -0.0015251 ]\n",
      " [-0.00331278 -0.00190637]]\n"
     ]
    }
   ],
   "source": [
    "gradient = -np.dot(first,output.T).T\n",
    "print(\"오차 기울기\\n\", gradient)\n",
    "\n",
    "change = 0.1 * gradient\n",
    "print(\"변화량\\n\", change)"
   ]
  },
  {
   "cell_type": "code",
   "execution_count": 21,
   "id": "affiliated-coordinator",
   "metadata": {},
   "outputs": [
    {
     "name": "stdout",
     "output_type": "stream",
     "text": [
      "새로운 w\n",
      " [[2.00265023 3.0015251 ]\n",
      " [1.00331278 4.00190637]]\n"
     ]
    }
   ],
   "source": [
    "new_w = W_hidden-change\n",
    "print(\"새로운 w\\n\", new_w)\n",
    "# w11, w12\n",
    "# w21, w22"
   ]
  }
 ],
 "metadata": {
  "kernelspec": {
   "display_name": "[DS Python3]",
   "language": "python",
   "name": "ds_env"
  },
  "language_info": {
   "codemirror_mode": {
    "name": "ipython",
    "version": 3
   },
   "file_extension": ".py",
   "mimetype": "text/x-python",
   "name": "python",
   "nbconvert_exporter": "python",
   "pygments_lexer": "ipython3",
   "version": "3.9.2"
  }
 },
 "nbformat": 4,
 "nbformat_minor": 5
}
