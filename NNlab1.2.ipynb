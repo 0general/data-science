{
 "cells": [
  {
   "cell_type": "code",
   "execution_count": 1,
   "id": "invisible-reducing",
   "metadata": {},
   "outputs": [],
   "source": [
    "from IPython.core.interactiveshell import InteractiveShell\n",
    "InteractiveShell.ast_node_interactivity = \"all\""
   ]
  },
  {
   "cell_type": "code",
   "execution_count": 7,
   "id": "opposite-vermont",
   "metadata": {},
   "outputs": [
    {
     "name": "stdout",
     "output_type": "stream",
     "text": [
      "Winput_hidden\n",
      " [[3. 2.]\n",
      " [1. 7.]]\n",
      "Whidden_output\n",
      " [[2. 3.]\n",
      " [1. 4.]]\n",
      "Eoutput\n",
      " [[0.8]\n",
      " [0.5]]\n",
      "Eoutput.sum\n",
      " 1.3\n",
      "Whidden_output_sum1\n",
      " [5. 5.]\n",
      "Whidden_output_norm\n",
      " [[0.4 0.2]\n",
      " [0.6 0.8]]\n",
      "Ehidden\n",
      " [[0.42]\n",
      " [0.88]]\n",
      "Ehidden.sum\n",
      " 1.3\n",
      "Winput_hidden_sum1\n",
      " [5. 8.]\n",
      "Winput_hidden_norm\n",
      " [[0.6   0.125]\n",
      " [0.4   0.875]]\n",
      "Einput\n",
      " [[0.362]\n",
      " [0.938]]\n",
      "Einput.sum\n",
      " 1.3\n"
     ]
    }
   ],
   "source": [
    "import numpy as np\n",
    "\n",
    "Winput_hidden = np.array([[3.0,2.0],[1.0,7.0]], ndmin=2)\n",
    "print(\"Winput_hidden\\n\", Winput_hidden)\n",
    "\n",
    "Whidden_output = np.array([[2.0,3.0],[1.0,4.0]], ndmin=2)\n",
    "print(\"Whidden_output\\n\", Whidden_output)\n",
    "\n",
    "Eoutput= np.array([0.8,0.5], ndmin=2).T\n",
    "print(\"Eoutput\\n\", Eoutput)\n",
    "print(\"Eoutput.sum\\n\", Eoutput.sum())\n",
    "\n",
    "Whidden_output_sum1 = Whidden_output.sum(axis=1, dtype='float')\n",
    "Whidden_output_norm = Whidden_output.T/Whidden_output_sum1\n",
    "print(\"Whidden_output_sum1\\n\", Whidden_output_sum1)\n",
    "print(\"Whidden_output_norm\\n\", Whidden_output_norm)\n",
    "\n",
    "Ehidden = np.dot(Whidden_output_norm, Eoutput)\n",
    "print(\"Ehidden\\n\", Ehidden)\n",
    "print(\"Ehidden.sum\\n\", Ehidden.sum())\n",
    "\n",
    "\n",
    "Winput_hidden_sum1 = Winput_hidden.sum(axis = 1, dtype = 'float')\n",
    "Winput_hidden_norm = Winput_hidden.T/Winput_hidden_sum1.T\n",
    "print(\"Winput_hidden_sum1\\n\", Winput_hidden_sum1)\n",
    "print(\"Winput_hidden_norm\\n\", Winput_hidden_norm)\n",
    "\n",
    "Einput= np.dot(Winput_hidden_norm, Ehidden)\n",
    "print(\"Einput\\n\", Einput)\n",
    "print(\"Einput.sum\\n\", Einput.sum())"
   ]
  }
 ],
 "metadata": {
  "kernelspec": {
   "display_name": "[DS Python3]",
   "language": "python",
   "name": "ds_env"
  },
  "language_info": {
   "codemirror_mode": {
    "name": "ipython",
    "version": 3
   },
   "file_extension": ".py",
   "mimetype": "text/x-python",
   "name": "python",
   "nbconvert_exporter": "python",
   "pygments_lexer": "ipython3",
   "version": "3.9.2"
  }
 },
 "nbformat": 4,
 "nbformat_minor": 5
}
