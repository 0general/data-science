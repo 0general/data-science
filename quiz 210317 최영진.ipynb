{
 "cells": [
  {
   "cell_type": "markdown",
   "metadata": {},
   "source": [
    "# 201501489 최영진"
   ]
  },
  {
   "cell_type": "code",
   "execution_count": 1,
   "metadata": {},
   "outputs": [],
   "source": [
    "from IPython.core.interactiveshell import InteractiveShell\n",
    "\n",
    "InteractiveShell.ast_node_interactivity = \"all\""
   ]
  },
  {
   "cell_type": "markdown",
   "metadata": {},
   "source": [
    "1번"
   ]
  },
  {
   "cell_type": "code",
   "execution_count": 2,
   "metadata": {},
   "outputs": [
    {
     "data": {
      "text/plain": [
       "[0, 1, 2]"
      ]
     },
     "execution_count": 2,
     "metadata": {},
     "output_type": "execute_result"
    },
    {
     "data": {
      "text/plain": [
       "[7, 8, 9]"
      ]
     },
     "execution_count": 2,
     "metadata": {},
     "output_type": "execute_result"
    },
    {
     "data": {
      "text/plain": [
       "[1, 2, 3, 4, 5, 6, 7, 8]"
      ]
     },
     "execution_count": 2,
     "metadata": {},
     "output_type": "execute_result"
    },
    {
     "data": {
      "text/plain": [
       "[0, 3, 6, 9]"
      ]
     },
     "execution_count": 2,
     "metadata": {},
     "output_type": "execute_result"
    },
    {
     "data": {
      "text/plain": [
       "[5, 4, 3]"
      ]
     },
     "execution_count": 2,
     "metadata": {},
     "output_type": "execute_result"
    }
   ],
   "source": [
    "x = [0,1,2,3,4,5,6,7,8,9]\n",
    "x[:3]\n",
    "x[7:]\n",
    "x[1:9]\n",
    "x[::3]\n",
    "x[5:2:-1]"
   ]
  },
  {
   "cell_type": "markdown",
   "metadata": {},
   "source": [
    "2번"
   ]
  },
  {
   "cell_type": "code",
   "execution_count": 3,
   "metadata": {},
   "outputs": [
    {
     "name": "stdout",
     "output_type": "stream",
     "text": [
      "Counter({'never': 3, 'give': 1, 'up': 1})\n"
     ]
    }
   ],
   "source": [
    "text = [\"never\",\"never\",\"never\",\"give\",\"up\"]\n",
    "\n",
    "from collections import Counter\n",
    "\n",
    "counts = Counter(text)\n",
    "print(counts)"
   ]
  },
  {
   "cell_type": "markdown",
   "metadata": {},
   "source": [
    "3번"
   ]
  },
  {
   "cell_type": "code",
   "execution_count": 4,
   "metadata": {},
   "outputs": [
    {
     "name": "stdout",
     "output_type": "stream",
     "text": [
      "키가 큽니다\n",
      "잘생기셨습니다\n"
     ]
    }
   ],
   "source": [
    "# (1)\n",
    "class Father:\n",
    "    def handsome(self):\n",
    "        print(\"잘생기셨습니다\")\n",
    "        \n",
    "class Son(Father):\n",
    "    def tall(self):\n",
    "        print(\"키가 큽니다\")\n",
    "\n",
    "class Daughter(Father):\n",
    "    def handsome(self):\n",
    "        print(\"예쁩니다\")\n",
    "        \n",
    "# (2)\n",
    "son = Son()\n",
    "son.tall()\n",
    "son.handsome()"
   ]
  },
  {
   "cell_type": "code",
   "execution_count": 5,
   "metadata": {},
   "outputs": [
    {
     "name": "stdout",
     "output_type": "stream",
     "text": [
      "예쁩니다\n"
     ]
    }
   ],
   "source": [
    "#(3)\n",
    "girl = Daughter()\n",
    "girl.handsome()"
   ]
  },
  {
   "cell_type": "markdown",
   "metadata": {},
   "source": [
    "4번"
   ]
  },
  {
   "cell_type": "code",
   "execution_count": 6,
   "metadata": {},
   "outputs": [],
   "source": [
    "def new_function_ten(f):\n",
    "    return f*10\n",
    "\n",
    "f = lambda x: x*2\n",
    "\n",
    "assert f(2) == 4, \"lambda not OK\"\n",
    "assert new_function_ten(f(2)) == 40, \"함수 작성이 잘못 되었습니다.\""
   ]
  },
  {
   "cell_type": "code",
   "execution_count": 7,
   "metadata": {},
   "outputs": [
    {
     "name": "stdout",
     "output_type": "stream",
     "text": [
      "테스트 중입니다. f2(x) = x**3\n",
      "f2(3) = 27이 맞습니까? 나온 답 : 27\n",
      "new function의 결과값이 270입니까? 나온 답 :  270\n"
     ]
    }
   ],
   "source": [
    "print(\"테스트 중입니다. f2(x) = x**3\")\n",
    "\n",
    "def f2(x):\n",
    "    return x**3\n",
    "\n",
    "print(\"f2(3) = 27이 맞습니까? 나온 답 :\", f2(3))\n",
    "\n",
    "print(\"new function의 결과값이 270입니까? 나온 답 : \", new_function_ten(f2(3)))"
   ]
  },
  {
   "cell_type": "markdown",
   "metadata": {},
   "source": [
    "5번 "
   ]
  },
  {
   "cell_type": "code",
   "execution_count": 8,
   "metadata": {},
   "outputs": [
    {
     "data": {
      "text/plain": [
       "{'cat': [1, 0, 0, 0],\n",
       " 'the': [0, 1, 0, 0],\n",
       " 'dog': [0, 0, 1, 0],\n",
       " 'sat': [0, 0, 0, 1]}"
      ]
     },
     "execution_count": 8,
     "metadata": {},
     "output_type": "execute_result"
    },
    {
     "name": "stdout",
     "output_type": "stream",
     "text": [
      "Sentence Encoding: [1 1 0 1]\n"
     ]
    }
   ],
   "source": [
    "import numpy as np\n",
    "\n",
    "onehots = {}\n",
    "onehots['cat'] = [1,0,0,0]\n",
    "onehots['the'] = [0,1,0,0]\n",
    "onehots['dog'] = [0,0,1,0]\n",
    "onehots['sat'] = [0,0,0,1]\n",
    "onehots\n",
    "sentence = ['the', 'cat', 'sat']\n",
    "\n",
    "x = np.zeros(4, dtype=np.int8)\n",
    "for i in sentence:\n",
    "    x += onehots[i]\n",
    "\n",
    "\n",
    "print(\"Sentence Encoding: \" + str(x))"
   ]
  }
 ],
 "metadata": {
  "kernelspec": {
   "display_name": "Python 3",
   "language": "python",
   "name": "python3"
  },
  "language_info": {
   "codemirror_mode": {
    "name": "ipython",
    "version": 3
   },
   "file_extension": ".py",
   "mimetype": "text/x-python",
   "name": "python",
   "nbconvert_exporter": "python",
   "pygments_lexer": "ipython3",
   "version": "3.7.7"
  }
 },
 "nbformat": 4,
 "nbformat_minor": 4
}
