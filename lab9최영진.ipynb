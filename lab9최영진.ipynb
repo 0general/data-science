{
 "cells": [
  {
   "cell_type": "markdown",
   "id": "gorgeous-helmet",
   "metadata": {},
   "source": [
    "# 201501489 최영진"
   ]
  },
  {
   "cell_type": "code",
   "execution_count": 1,
   "id": "activated-values",
   "metadata": {},
   "outputs": [],
   "source": [
    "from IPython.core.interactiveshell import InteractiveShell\n",
    "InteractiveShell.ast_node_interactivity = \"all\""
   ]
  },
  {
   "cell_type": "code",
   "execution_count": 2,
   "id": "liberal-scroll",
   "metadata": {},
   "outputs": [
    {
     "name": "stdout",
     "output_type": "stream",
     "text": [
      "f =  -12\n",
      "dfdx =  -3\n",
      "dfdy =  4\n"
     ]
    }
   ],
   "source": [
    "#f(x,y) = xy\n",
    "x = 4\n",
    "y = -3\n",
    "f = x*y\n",
    "\n",
    "dfdx = y\n",
    "dfdy = x\n",
    "\n",
    "print('f = ', f)\n",
    "print('dfdx = ', dfdx)\n",
    "print('dfdy = ', dfdy)"
   ]
  },
  {
   "cell_type": "code",
   "execution_count": 3,
   "id": "uniform-preview",
   "metadata": {},
   "outputs": [
    {
     "name": "stdout",
     "output_type": "stream",
     "text": [
      "f =  1\n",
      "dfdx =  1\n",
      "dfdy =  1\n"
     ]
    }
   ],
   "source": [
    "#f(x,y) = x+y\n",
    "\n",
    "x = 4; y = -3\n",
    "\n",
    "f = x+y\n",
    "dfdx = 1\n",
    "dfdy = 1\n",
    "\n",
    "print('f = ', f)\n",
    "print('dfdx = ', dfdx)\n",
    "print('dfdy = ', dfdy)"
   ]
  },
  {
   "cell_type": "code",
   "execution_count": 4,
   "id": "popular-parking",
   "metadata": {},
   "outputs": [
    {
     "name": "stdout",
     "output_type": "stream",
     "text": [
      "f =  4\n",
      "dfdx =  1\n",
      "dfdy =  0\n"
     ]
    }
   ],
   "source": [
    "#f(x,y) = max(x,y)\n",
    "\n",
    "x = 4; y = 2\n",
    "\n",
    "f = max(x,y)\n",
    "dfdx = (1 if x>=y else 0)\n",
    "dfdy = (1 if y>=x else 0)\n",
    "\n",
    "print('f = ', f)\n",
    "print('dfdx = ', dfdx)\n",
    "print('dfdy = ', dfdy)"
   ]
  },
  {
   "cell_type": "code",
   "execution_count": 5,
   "id": "forward-witness",
   "metadata": {},
   "outputs": [],
   "source": [
    "# 𝑓(𝑥,𝑦)=(𝑥+𝑦)𝑧 \n",
    "\n",
    "# set some inputs\n",
    "x = -2; y = 5; z = -4\n",
    "\n",
    "# perform the forward pass\n",
    "q = x + y # q becomes 3\n",
    "f = q * z # f becomes -12\n",
    "\n",
    "# perform the backward pass (backpropagation) in reverse order:\n",
    "# first backprop through f = q * z\n",
    "dfdz = q # df/dz = q, so gradient on z becomes 3\n",
    "dfdq = z # df/dq = z, so gradient on q becomes -4\n",
    "# now backprop through q = x + y\n",
    "dfdx = 1.0 * dfdq # dq/dx = 1. And the multiplication here is the chain rule!\n",
    "dfdy = 1.0 * dfdq # dq/dy = 1"
   ]
  },
  {
   "cell_type": "code",
   "execution_count": 6,
   "id": "closed-mathematics",
   "metadata": {},
   "outputs": [
    {
     "name": "stdout",
     "output_type": "stream",
     "text": [
      "q =  3\n",
      "f =  -12\n",
      "dfdq =  -4\n",
      "dfdx =  -4.0\n",
      "dfdy =  -4.0\n",
      "dfdz =  3\n"
     ]
    }
   ],
   "source": [
    "print('q = ', q)\n",
    "print('f = ', f)\n",
    "print('dfdq = ', dfdq)\n",
    "print('dfdx = ', dfdx)\n",
    "print('dfdy = ', dfdy)\n",
    "print('dfdz = ', dfdz)"
   ]
  },
  {
   "cell_type": "code",
   "execution_count": 7,
   "id": "rotary-quarter",
   "metadata": {},
   "outputs": [],
   "source": [
    "import math"
   ]
  },
  {
   "cell_type": "code",
   "execution_count": 8,
   "id": "proved-sacramento",
   "metadata": {},
   "outputs": [],
   "source": [
    "# 𝑥=1/(1+ 𝑒^(−(𝑤_0 𝑥_0+𝑤_1 𝑤_1+𝑤_2)) )\n",
    "\n",
    "w = [2,-3,-3] # assume some random weights and data\n",
    "x = [-1, -2]\n",
    "\n",
    "# forward pass\n",
    "dot = w[0]*x[0] + w[1]*x[1] + w[2]\n",
    "f = 1.0 / (1 + math.exp(-dot)) # sigmoid function\n",
    "\n",
    "# backward pass through the neuron (backpropagation)\n",
    "ddot = (1 - f) * f # gradient on dot variable, using the sigmoid gradient derivation\n",
    "dx = [w[0] * ddot, w[1] * ddot] # backprop into x\n",
    "dw = [x[0] * ddot, x[1] * ddot, 1.0 * ddot] # backprop into w\n",
    "# we're done! we have the gradients on the inputs to the circuit"
   ]
  },
  {
   "cell_type": "code",
   "execution_count": 9,
   "id": "stuck-stress",
   "metadata": {},
   "outputs": [
    {
     "name": "stdout",
     "output_type": "stream",
     "text": [
      "1\n",
      "0.7310585786300049\n",
      "0.19661193324148185\n",
      "[0.3932238664829637, -0.5898357997244456]\n",
      "[-0.19661193324148185, -0.3932238664829637, 0.19661193324148185]\n"
     ]
    }
   ],
   "source": [
    "print(dot)\n",
    "print(f)\n",
    "print(ddot)\n",
    "print(dx)\n",
    "print(dw)"
   ]
  }
 ],
 "metadata": {
  "kernelspec": {
   "display_name": "[DS Python3]",
   "language": "python",
   "name": "ds_env"
  },
  "language_info": {
   "codemirror_mode": {
    "name": "ipython",
    "version": 3
   },
   "file_extension": ".py",
   "mimetype": "text/x-python",
   "name": "python",
   "nbconvert_exporter": "python",
   "pygments_lexer": "ipython3",
   "version": "3.9.2"
  }
 },
 "nbformat": 4,
 "nbformat_minor": 5
}
