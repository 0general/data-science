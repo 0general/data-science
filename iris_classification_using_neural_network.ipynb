{
 "cells": [
  {
   "cell_type": "markdown",
   "id": "played-network",
   "metadata": {},
   "source": [
    "# 201501489 최영진"
   ]
  },
  {
   "cell_type": "code",
   "execution_count": 1,
   "id": "chubby-helen",
   "metadata": {},
   "outputs": [],
   "source": [
    "import numpy\n",
    "# scipy.special for the sigmoid function expit()\n",
    "import scipy.special\n",
    "# library for plotting arrays\n",
    "import pandas"
   ]
  },
  {
   "cell_type": "code",
   "execution_count": 2,
   "id": "convenient-context",
   "metadata": {},
   "outputs": [],
   "source": [
    "class neuralNetwork:\n",
    "    \n",
    "    \n",
    "    # initialise the neural network\n",
    "    def __init__(self, inputnodes, hiddennodes, outputnodes, learningrate):\n",
    "        # set number of nodes in each input, hidden, output layer\n",
    "        self.inodes = inputnodes\n",
    "        self.hnodes = hiddennodes\n",
    "        self.onodes = outputnodes\n",
    "        \n",
    "        # link weight matrices, wih and who\n",
    "        # weights inside the arrays are w_i_j, where link is from node i to node j in the next layer\n",
    "        # w11 w21\n",
    "        # w12 w22 etc \n",
    "        self.wih = numpy.random.normal(0.0, pow(self.inodes, -0.5), (self.hnodes, self.inodes))\n",
    "        self.who = numpy.random.normal(0.0, pow(self.hnodes, -0.5), (self.onodes, self.hnodes))\n",
    "\n",
    "        # learning rate\n",
    "        self.lr = learningrate\n",
    "        \n",
    "        # activation function is the sigmoid function\n",
    "        self.activation_function = lambda x: scipy.special.expit(x)\n",
    "        \n",
    "        pass\n",
    "\n",
    "    \n",
    "    # train the neural network\n",
    "    def train(self, inputs_list, targets_list):\n",
    "        # convert inputs list to 2d array\n",
    "        inputs = numpy.array(inputs_list, ndmin=2).T\n",
    "        targets = numpy.array(targets_list, ndmin=2).T\n",
    "        \n",
    "        # calculate signals into hidden layer\n",
    "        hidden_inputs = numpy.dot(self.wih, inputs)\n",
    "        # calculate the signals emerging from hidden layer\n",
    "        hidden_outputs = self.activation_function(hidden_inputs)\n",
    "        \n",
    "        # calculate signals into final output layer\n",
    "        final_inputs = numpy.dot(self.who, hidden_outputs)\n",
    "        # calculate the signals emerging from final output layer\n",
    "        final_outputs = self.activation_function(final_inputs)\n",
    "        \n",
    "        # output layer error is the (target - actual)\n",
    "        output_errors = targets - final_outputs\n",
    "        # hidden layer error is the output_errors, split by weights, recombined at hidden nodes\n",
    "        hidden_errors = numpy.dot(self.who.T, output_errors) \n",
    "        \n",
    "        # update the weights for the links between the hidden and output layers\n",
    "        self.who += self.lr * numpy.dot((output_errors * final_outputs * (1.0 - final_outputs)), numpy.transpose(hidden_outputs))\n",
    "        \n",
    "        # update the weights for the links between the input and hidden layers\n",
    "        self.wih += self.lr * numpy.dot((hidden_errors * hidden_outputs * (1.0 - hidden_outputs)), numpy.transpose(inputs))\n",
    "        \n",
    "        pass\n",
    "\n",
    "    \n",
    "    # query the neural network\n",
    "    def query(self, inputs_list):\n",
    "        # convert inputs list to 2d array\n",
    "        inputs = numpy.array(inputs_list, ndmin=2).T\n",
    "        \n",
    "        # calculate signals into hidden layer\n",
    "        hidden_inputs = numpy.dot(self.wih, inputs)\n",
    "        # calculate the signals emerging from hidden layer\n",
    "        hidden_outputs = self.activation_function(hidden_inputs)\n",
    "        \n",
    "        # calculate signals into final output layer\n",
    "        final_inputs = numpy.dot(self.who, hidden_outputs)\n",
    "        # calculate the signals emerging from final output layer\n",
    "        final_outputs = self.activation_function(final_inputs)\n",
    "        \n",
    "        return final_outputs"
   ]
  },
  {
   "cell_type": "code",
   "execution_count": 3,
   "id": "surface-footwear",
   "metadata": {},
   "outputs": [],
   "source": [
    "#iris = pandas.read_csv('iris.data', header=None, names = ['Sepal length','Sepal width','Petal length','Petal width','target'])\n",
    "iris = pandas.read_csv('iris.data', header=None)"
   ]
  },
  {
   "cell_type": "code",
   "execution_count": 4,
   "id": "dutch-milton",
   "metadata": {},
   "outputs": [
    {
     "data": {
      "text/html": [
       "<div>\n",
       "<style scoped>\n",
       "    .dataframe tbody tr th:only-of-type {\n",
       "        vertical-align: middle;\n",
       "    }\n",
       "\n",
       "    .dataframe tbody tr th {\n",
       "        vertical-align: top;\n",
       "    }\n",
       "\n",
       "    .dataframe thead th {\n",
       "        text-align: right;\n",
       "    }\n",
       "</style>\n",
       "<table border=\"1\" class=\"dataframe\">\n",
       "  <thead>\n",
       "    <tr style=\"text-align: right;\">\n",
       "      <th></th>\n",
       "      <th>0</th>\n",
       "      <th>1</th>\n",
       "      <th>2</th>\n",
       "      <th>3</th>\n",
       "      <th>4</th>\n",
       "    </tr>\n",
       "  </thead>\n",
       "  <tbody>\n",
       "    <tr>\n",
       "      <th>0</th>\n",
       "      <td>5.1</td>\n",
       "      <td>3.5</td>\n",
       "      <td>1.4</td>\n",
       "      <td>0.2</td>\n",
       "      <td>Iris-setosa</td>\n",
       "    </tr>\n",
       "    <tr>\n",
       "      <th>1</th>\n",
       "      <td>4.9</td>\n",
       "      <td>3.0</td>\n",
       "      <td>1.4</td>\n",
       "      <td>0.2</td>\n",
       "      <td>Iris-setosa</td>\n",
       "    </tr>\n",
       "    <tr>\n",
       "      <th>2</th>\n",
       "      <td>4.7</td>\n",
       "      <td>3.2</td>\n",
       "      <td>1.3</td>\n",
       "      <td>0.2</td>\n",
       "      <td>Iris-setosa</td>\n",
       "    </tr>\n",
       "    <tr>\n",
       "      <th>3</th>\n",
       "      <td>4.6</td>\n",
       "      <td>3.1</td>\n",
       "      <td>1.5</td>\n",
       "      <td>0.2</td>\n",
       "      <td>Iris-setosa</td>\n",
       "    </tr>\n",
       "    <tr>\n",
       "      <th>4</th>\n",
       "      <td>5.0</td>\n",
       "      <td>3.6</td>\n",
       "      <td>1.4</td>\n",
       "      <td>0.2</td>\n",
       "      <td>Iris-setosa</td>\n",
       "    </tr>\n",
       "  </tbody>\n",
       "</table>\n",
       "</div>"
      ],
      "text/plain": [
       "     0    1    2    3            4\n",
       "0  5.1  3.5  1.4  0.2  Iris-setosa\n",
       "1  4.9  3.0  1.4  0.2  Iris-setosa\n",
       "2  4.7  3.2  1.3  0.2  Iris-setosa\n",
       "3  4.6  3.1  1.5  0.2  Iris-setosa\n",
       "4  5.0  3.6  1.4  0.2  Iris-setosa"
      ]
     },
     "execution_count": 4,
     "metadata": {},
     "output_type": "execute_result"
    }
   ],
   "source": [
    "iris.head()"
   ]
  },
  {
   "cell_type": "code",
   "execution_count": 5,
   "id": "imperial-tuner",
   "metadata": {},
   "outputs": [
    {
     "data": {
      "text/html": [
       "<div>\n",
       "<style scoped>\n",
       "    .dataframe tbody tr th:only-of-type {\n",
       "        vertical-align: middle;\n",
       "    }\n",
       "\n",
       "    .dataframe tbody tr th {\n",
       "        vertical-align: top;\n",
       "    }\n",
       "\n",
       "    .dataframe thead th {\n",
       "        text-align: right;\n",
       "    }\n",
       "</style>\n",
       "<table border=\"1\" class=\"dataframe\">\n",
       "  <thead>\n",
       "    <tr style=\"text-align: right;\">\n",
       "      <th></th>\n",
       "      <th>0</th>\n",
       "      <th>1</th>\n",
       "      <th>2</th>\n",
       "      <th>3</th>\n",
       "      <th>4</th>\n",
       "    </tr>\n",
       "  </thead>\n",
       "  <tbody>\n",
       "    <tr>\n",
       "      <th>100</th>\n",
       "      <td>6.3</td>\n",
       "      <td>3.3</td>\n",
       "      <td>6.0</td>\n",
       "      <td>2.5</td>\n",
       "      <td>Iris-virginica</td>\n",
       "    </tr>\n",
       "    <tr>\n",
       "      <th>101</th>\n",
       "      <td>5.8</td>\n",
       "      <td>2.7</td>\n",
       "      <td>5.1</td>\n",
       "      <td>1.9</td>\n",
       "      <td>Iris-virginica</td>\n",
       "    </tr>\n",
       "    <tr>\n",
       "      <th>102</th>\n",
       "      <td>7.1</td>\n",
       "      <td>3.0</td>\n",
       "      <td>5.9</td>\n",
       "      <td>2.1</td>\n",
       "      <td>Iris-virginica</td>\n",
       "    </tr>\n",
       "    <tr>\n",
       "      <th>103</th>\n",
       "      <td>6.3</td>\n",
       "      <td>2.9</td>\n",
       "      <td>5.6</td>\n",
       "      <td>1.8</td>\n",
       "      <td>Iris-virginica</td>\n",
       "    </tr>\n",
       "    <tr>\n",
       "      <th>104</th>\n",
       "      <td>6.5</td>\n",
       "      <td>3.0</td>\n",
       "      <td>5.8</td>\n",
       "      <td>2.2</td>\n",
       "      <td>Iris-virginica</td>\n",
       "    </tr>\n",
       "  </tbody>\n",
       "</table>\n",
       "</div>"
      ],
      "text/plain": [
       "       0    1    2    3               4\n",
       "100  6.3  3.3  6.0  2.5  Iris-virginica\n",
       "101  5.8  2.7  5.1  1.9  Iris-virginica\n",
       "102  7.1  3.0  5.9  2.1  Iris-virginica\n",
       "103  6.3  2.9  5.6  1.8  Iris-virginica\n",
       "104  6.5  3.0  5.8  2.2  Iris-virginica"
      ]
     },
     "execution_count": 5,
     "metadata": {},
     "output_type": "execute_result"
    }
   ],
   "source": [
    "setosadata = iris[iris[4]=='Iris-setosa']\n",
    "setosadata.head()\n",
    "versicolordata = iris[iris[4]=='Iris-versicolor']\n",
    "versicolordata.head()\n",
    "virginicadata = iris[iris[4]=='Iris-virginica']\n",
    "virginicadata.head()"
   ]
  },
  {
   "cell_type": "code",
   "execution_count": 7,
   "id": "solar-butter",
   "metadata": {},
   "outputs": [],
   "source": [
    "setosadata.loc[:,4] = str(0)\n",
    "versicolordata.loc[:,4] = str(1)\n",
    "virginicadata.loc[:,4] = str(2)"
   ]
  },
  {
   "cell_type": "code",
   "execution_count": 8,
   "id": "engaging-auction",
   "metadata": {},
   "outputs": [],
   "source": [
    "def iris_train_test_extract(X,Y,Z, test_size=0.2):\n",
    "    \n",
    "    test_num1 = int(Y.shape[0]*test_size)\n",
    "    test_num2 = int(Y.shape[0]*test_size)\n",
    "    test_num3 = int(Y.shape[0]*test_size)\n",
    "    \n",
    "    X_shuffled = X.sample(frac=1).reset_index(drop=True)\n",
    "#     frac 매개변수 -> 반환해야 하는 전체 인스턴스 비율. 셔플하려면 1로 설정\n",
    "    Y_shuffled = Y.sample(frac=1).reset_index(drop=True)\n",
    "    Z_shuffled = Z.sample(frac=1).reset_index(drop=True)\n",
    "#     rest_index 메소드 -> 데이터 프레임 인덱스 재설정\n",
    "#     drop=True 옵션은 index 열이 새 열로 추가되지 않도록 한다.\n",
    "    \n",
    "    test_X = X_shuffled.iloc[:test_num1]\n",
    "    train_X = X_shuffled.iloc[test_num1:]\n",
    "    \n",
    "    test_Y = Y_shuffled.iloc[:test_num2]\n",
    "    train_Y = Y_shuffled.iloc[test_num2:]\n",
    "    \n",
    "    test_Z = Z_shuffled.iloc[:test_num3]\n",
    "    train_Z = Z_shuffled.iloc[test_num3:]\n",
    "    \n",
    "    test_data = pandas.concat([test_X,test_Y,test_Z],ignore_index=True)\n",
    "    train_data = pandas.concat([train_X,train_Y,train_Z], ignore_index=True)\n",
    "    \n",
    "    return test_data, train_data"
   ]
  },
  {
   "cell_type": "code",
   "execution_count": 9,
   "id": "nutritional-buffer",
   "metadata": {},
   "outputs": [],
   "source": [
    "iris_testset, iris_trainset = iris_train_test_extract(setosadata,versicolordata,virginicadata)\n",
    "\n",
    "iris_testset.to_csv('iris_testset.csv',header=None,index=False)\n",
    "iris_trainset.to_csv('iris_trainset.csv',header=None,index=False)"
   ]
  },
  {
   "cell_type": "code",
   "execution_count": 10,
   "id": "framed-triangle",
   "metadata": {},
   "outputs": [],
   "source": [
    "iris_train_file = open('iris_trainset.csv',\"r\")\n",
    "iris_train = iris_train_file.readlines()\n",
    "iris_train_file.close()"
   ]
  },
  {
   "cell_type": "code",
   "execution_count": 11,
   "id": "worthy-davis",
   "metadata": {},
   "outputs": [],
   "source": [
    "input_nodes = 4\n",
    "hidden_nodes = 10\n",
    "output_nodes = 3\n",
    "\n",
    "learning_rate = 0.1\n",
    "\n",
    "n = neuralNetwork(input_nodes,hidden_nodes,output_nodes, learning_rate)\n",
    "\n",
    "\n",
    "epochs = 400"
   ]
  },
  {
   "cell_type": "code",
   "execution_count": 12,
   "id": "future-alexander",
   "metadata": {},
   "outputs": [
    {
     "name": "stdout",
     "output_type": "stream",
     "text": [
      "complete\n"
     ]
    }
   ],
   "source": [
    "for e in range(epochs):\n",
    "    # go through all records in the training data set\n",
    "    for record in iris_train:\n",
    "        all_values = record.split(',')\n",
    "        inputs = (numpy.asfarray(all_values[:4]))\n",
    "        targets = numpy.zeros(output_nodes) + 0.01\n",
    "        targets[int(all_values[4])] = 0.99\n",
    "        n.train(inputs, targets)\n",
    "\n",
    "    if e == epochs-1:\n",
    "        print(\"complete\")\n",
    "pass"
   ]
  },
  {
   "cell_type": "markdown",
   "id": "metric-active",
   "metadata": {},
   "source": [
    "### input nodes에 들어가 분류에 사용되는 데이터의 종류는 꽃받침의 길이와 너비, 꽃잎의 길이와 너비로 총 4가지입니다.\n",
    "\n",
    "### output node의 결과로는 setosa에 해당하는 0과, versicolor에 해당하는 1, virginica를 의미하는 2로 총 3개의 값이 나올 수 있으므로 output_nodes의 수는 3입니다."
   ]
  },
  {
   "cell_type": "code",
   "execution_count": 13,
   "id": "forced-trauma",
   "metadata": {},
   "outputs": [],
   "source": [
    "iris_test_file = open('iris_testset.csv',\"r\")\n",
    "iris_test = iris_test_file.readlines()\n",
    "iris_test_file.close()"
   ]
  },
  {
   "cell_type": "code",
   "execution_count": 14,
   "id": "incorporate-salvation",
   "metadata": {
    "scrolled": true
   },
   "outputs": [
    {
     "name": "stdout",
     "output_type": "stream",
     "text": [
      "label is :  0\n",
      "correct label is :  0\n",
      "label is :  0\n",
      "correct label is :  0\n",
      "label is :  0\n",
      "correct label is :  0\n",
      "label is :  0\n",
      "correct label is :  0\n",
      "label is :  0\n",
      "correct label is :  0\n",
      "label is :  0\n",
      "correct label is :  0\n",
      "label is :  0\n",
      "correct label is :  0\n",
      "label is :  0\n",
      "correct label is :  0\n",
      "label is :  0\n",
      "correct label is :  0\n",
      "label is :  0\n",
      "correct label is :  0\n",
      "label is :  2\n",
      "correct label is :  1\n",
      "label is :  1\n",
      "correct label is :  1\n",
      "label is :  1\n",
      "correct label is :  1\n",
      "label is :  1\n",
      "correct label is :  1\n",
      "label is :  1\n",
      "correct label is :  1\n",
      "label is :  1\n",
      "correct label is :  1\n",
      "label is :  1\n",
      "correct label is :  1\n",
      "label is :  1\n",
      "correct label is :  1\n",
      "label is :  1\n",
      "correct label is :  1\n",
      "label is :  1\n",
      "correct label is :  1\n",
      "label is :  2\n",
      "correct label is :  2\n",
      "label is :  2\n",
      "correct label is :  2\n",
      "label is :  2\n",
      "correct label is :  2\n",
      "label is :  2\n",
      "correct label is :  2\n",
      "label is :  2\n",
      "correct label is :  2\n",
      "label is :  2\n",
      "correct label is :  2\n",
      "label is :  2\n",
      "correct label is :  2\n",
      "label is :  2\n",
      "correct label is :  2\n",
      "label is :  2\n",
      "correct label is :  2\n",
      "label is :  2\n",
      "correct label is :  2\n",
      "performance =  0.9666666666666667\n"
     ]
    }
   ],
   "source": [
    "scorecard = []\n",
    "\n",
    "# 테스트 데이터 모음 내의 모든 레코드 검색\n",
    "for record in iris_test:\n",
    "    #레코드를 쉼표에 의해 분리\n",
    "    all_values = record.split(',')\n",
    "    #정답은 첫 번째 값\n",
    "    correct_label = int(all_values[4])\n",
    "    #입력 값의 범위와 값 조정\n",
    "    inputs = (numpy.asfarray(all_values[:4]))\n",
    "    #신경망에 질의\n",
    "    outputs = n.query(inputs)\n",
    "    #가장 높은 값의 인덱스는 레이블의 인덱스와 일치\n",
    "    label = numpy.argmax(outputs)\n",
    "    #정답 또는 오답을 리스트에 추가\n",
    "    print(\"label is : \", label)\n",
    "    print(\"correct label is : \", correct_label)\n",
    "    if (label == correct_label):\n",
    "        #정답인 경우 성적표에 1을 더해 줌\n",
    "        scorecard.append(1)\n",
    "    else:\n",
    "        #정답이 아닌 경우 성적표에 0을 더해 줌\n",
    "        scorecard.append(0)\n",
    "        pass\n",
    "    pass\n",
    "\n",
    "\n",
    "scorecard_array = numpy.asarray(scorecard)\n",
    "print(\"performance = \", scorecard_array.sum()/scorecard_array.size)"
   ]
  },
  {
   "cell_type": "code",
   "execution_count": 15,
   "id": "contrary-script",
   "metadata": {},
   "outputs": [],
   "source": [
    "from IPython.core.interactiveshell import InteractiveShell\n",
    "InteractiveShell.ast_node_interactivity = \"all\""
   ]
  },
  {
   "cell_type": "markdown",
   "id": "positive-geography",
   "metadata": {},
   "source": [
    "# learning rate별로 정확도 확인"
   ]
  },
  {
   "cell_type": "code",
   "execution_count": 16,
   "id": "literary-parker",
   "metadata": {},
   "outputs": [],
   "source": [
    "import matplotlib.pyplot as plt"
   ]
  },
  {
   "cell_type": "code",
   "execution_count": 21,
   "id": "blessed-glenn",
   "metadata": {},
   "outputs": [],
   "source": [
    "input_nodes = 4\n",
    "hidden_nodes = 10\n",
    "output_nodes = 3\n",
    "\n",
    "x = numpy.arange(0.01, 1, 0.01)\n",
    "y = []\n",
    "for i in x:\n",
    "    n = neuralNetwork(input_nodes,hidden_nodes,output_nodes, i)\n",
    "    \n",
    "    epochs = 400\n",
    "    \n",
    "    for e in range(epochs):\n",
    "    # go through all records in the training data set\n",
    "        for record in iris_train:\n",
    "            all_values = record.split(',')\n",
    "            inputs = (numpy.asfarray(all_values[:4]))\n",
    "            targets = numpy.zeros(output_nodes) + 0.01\n",
    "            targets[int(all_values[4])] = 0.99\n",
    "            n.train(inputs, targets)\n",
    "            \n",
    "    pass\n",
    "\n",
    "    scorecard = []\n",
    "\n",
    "    # 테스트 데이터 모음 내의 모든 레코드 검색\n",
    "    for record in iris_test:\n",
    "        #레코드를 쉼표에 의해 분리\n",
    "        all_values = record.split(',')\n",
    "        #정답은 첫 번째 값\n",
    "        correct_label = int(all_values[4])\n",
    "        #입력 값의 범위와 값 조정\n",
    "        inputs = (numpy.asfarray(all_values[:4]))\n",
    "        #신경망에 질의\n",
    "        outputs = n.query(inputs)\n",
    "        #가장 높은 값의 인덱스는 레이블의 인덱스와 일치\n",
    "        label = numpy.argmax(outputs)\n",
    "        #정답 또는 오답을 리스트에 추가\n",
    "        if (label == correct_label):\n",
    "            #정답인 경우 성적표에 1을 더해 줌\n",
    "            scorecard.append(1)\n",
    "        else:\n",
    "            #정답이 아닌 경우 성적표에 0을 더해 줌\n",
    "            scorecard.append(0)\n",
    "            pass\n",
    "        pass\n",
    "\n",
    "    scorecard_array = numpy.asarray(scorecard)\n",
    "    y.append(scorecard_array.sum()/scorecard_array.size)"
   ]
  },
  {
   "cell_type": "code",
   "execution_count": 22,
   "id": "occupational-credit",
   "metadata": {},
   "outputs": [
    {
     "data": {
      "text/plain": [
       "[<matplotlib.lines.Line2D at 0x1b708aadc10>]"
      ]
     },
     "execution_count": 22,
     "metadata": {},
     "output_type": "execute_result"
    },
    {
     "data": {
      "image/png": "[encoded data removed]",
      "text/plain": [
       "<Figure size 432x288 with 1 Axes>"
      ]
     },
     "metadata": {
      "needs_background": "light"
     },
     "output_type": "display_data"
    }
   ],
   "source": [
    "plt.plot(x,y,c='b')"
   ]
  },
  {
   "cell_type": "code",
   "execution_count": 23,
   "id": "plastic-papua",
   "metadata": {},
   "outputs": [
    {
     "name": "stdout",
     "output_type": "stream",
     "text": [
      "201501489 최영진\n"
     ]
    }
   ],
   "source": [
    "print(\"201501489 최영진\")"
   ]
  }
 ],
 "metadata": {
  "kernelspec": {
   "display_name": "[DS Python3]",
   "language": "python",
   "name": "ds_env"
  },
  "language_info": {
   "codemirror_mode": {
    "name": "ipython",
    "version": 3
   },
   "file_extension": ".py",
   "mimetype": "text/x-python",
   "name": "python",
   "nbconvert_exporter": "python",
   "pygments_lexer": "ipython3",
   "version": "3.9.2"
  }
 },
 "nbformat": 4,
 "nbformat_minor": 5
}
